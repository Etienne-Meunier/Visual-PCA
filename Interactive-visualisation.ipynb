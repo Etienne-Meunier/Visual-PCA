{
 "cells": [
  {
   "cell_type": "code",
   "execution_count": 1,
   "id": "2e12929d-ed51-4b75-b9a4-d51773e4d100",
   "metadata": {},
   "outputs": [],
   "source": [
    "from visual_pca import setup, plot_interactive\n",
    "from ipywidgets import interact, IntSlider, IntRangeSlider\n"
   ]
  },
  {
   "cell_type": "code",
   "execution_count": 2,
   "id": "f6d7be09-42cd-48f7-804b-a7f6000197e7",
   "metadata": {},
   "outputs": [
    {
     "name": "stderr",
     "output_type": "stream",
     "text": [
      "<frozen importlib._bootstrap>:241: RuntimeWarning: numpy.ndarray size changed, may indicate binary incompatibility. Expected 16 from C header, got 96 from PyObject\n"
     ]
    },
    {
     "ename": "NameError",
     "evalue": "name 'interact' is not defined",
     "output_type": "error",
     "traceback": [
      "\u001b[0;31m---------------------------------------------------------------------------\u001b[0m",
      "\u001b[0;31mNameError\u001b[0m                                 Traceback (most recent call last)",
      "Cell \u001b[0;32mIn[2], line 5\u001b[0m\n\u001b[1;32m      2\u001b[0m pi \u001b[38;5;241m=\u001b[39m \u001b[38;5;28;01mlambda\u001b[39;00m t, k_min, k_max: plot_interactive(X\u001b[38;5;241m=\u001b[39mX, eigenvectors\u001b[38;5;241m=\u001b[39meigenvectors, st\u001b[38;5;241m=\u001b[39mst, da_untrend\u001b[38;5;241m=\u001b[39mda_untrend, t\u001b[38;5;241m=\u001b[39mt, k_min\u001b[38;5;241m=\u001b[39mk_min, k_max\u001b[38;5;241m=\u001b[39mk_max)\n\u001b[1;32m      4\u001b[0m \u001b[38;5;66;03m# Use `interact` to make the plot interactive with sliders for `t` and `k`\u001b[39;00m\n\u001b[0;32m----> 5\u001b[0m \u001b[43minteract\u001b[49m(pi, \n\u001b[1;32m      6\u001b[0m         t\u001b[38;5;241m=\u001b[39mIntSlider(\u001b[38;5;28mmin\u001b[39m\u001b[38;5;241m=\u001b[39m\u001b[38;5;241m0\u001b[39m, \u001b[38;5;28mmax\u001b[39m\u001b[38;5;241m=\u001b[39mst\u001b[38;5;241m.\u001b[39mcoords[\u001b[38;5;124m'\u001b[39m\u001b[38;5;124mtime\u001b[39m\u001b[38;5;124m'\u001b[39m]\u001b[38;5;241m.\u001b[39msize \u001b[38;5;241m-\u001b[39m \u001b[38;5;241m1\u001b[39m, step\u001b[38;5;241m=\u001b[39m\u001b[38;5;241m1\u001b[39m, value\u001b[38;5;241m=\u001b[39m\u001b[38;5;241m10\u001b[39m, layout\u001b[38;5;241m=\u001b[39m{\u001b[38;5;124m'\u001b[39m\u001b[38;5;124mwidth\u001b[39m\u001b[38;5;124m'\u001b[39m: \u001b[38;5;124m'\u001b[39m\u001b[38;5;124m2000px\u001b[39m\u001b[38;5;124m'\u001b[39m}), \n\u001b[1;32m      7\u001b[0m         k_min \u001b[38;5;241m=\u001b[39m IntSlider(\u001b[38;5;28mmin\u001b[39m\u001b[38;5;241m=\u001b[39m\u001b[38;5;241m0\u001b[39m, \u001b[38;5;28mmax\u001b[39m\u001b[38;5;241m=\u001b[39meigenvectors\u001b[38;5;241m.\u001b[39mshape[\u001b[38;5;241m1\u001b[39m]\u001b[38;5;241m-\u001b[39m\u001b[38;5;241m1\u001b[39m, step\u001b[38;5;241m=\u001b[39m\u001b[38;5;241m1\u001b[39m, value\u001b[38;5;241m=\u001b[39m\u001b[38;5;241m0\u001b[39m, layout\u001b[38;5;241m=\u001b[39m{\u001b[38;5;124m'\u001b[39m\u001b[38;5;124mwidth\u001b[39m\u001b[38;5;124m'\u001b[39m: \u001b[38;5;124m'\u001b[39m\u001b[38;5;124m2000px\u001b[39m\u001b[38;5;124m'\u001b[39m}),\n\u001b[1;32m      8\u001b[0m         k_max \u001b[38;5;241m=\u001b[39m IntSlider(\u001b[38;5;28mmin\u001b[39m\u001b[38;5;241m=\u001b[39m\u001b[38;5;241m0\u001b[39m, \u001b[38;5;28mmax\u001b[39m\u001b[38;5;241m=\u001b[39meigenvectors\u001b[38;5;241m.\u001b[39mshape[\u001b[38;5;241m1\u001b[39m]\u001b[38;5;241m-\u001b[39m\u001b[38;5;241m1\u001b[39m, step\u001b[38;5;241m=\u001b[39m\u001b[38;5;241m1\u001b[39m, value\u001b[38;5;241m=\u001b[39m\u001b[38;5;241m4\u001b[39m, layout\u001b[38;5;241m=\u001b[39m{\u001b[38;5;124m'\u001b[39m\u001b[38;5;124mwidth\u001b[39m\u001b[38;5;124m'\u001b[39m: \u001b[38;5;124m'\u001b[39m\u001b[38;5;124m2000px\u001b[39m\u001b[38;5;124m'\u001b[39m}))\n",
      "\u001b[0;31mNameError\u001b[0m: name 'interact' is not defined"
     ]
    }
   ],
   "source": [
    "X, eigenvectors, eigenvalues, st, da_untrend = setup() \n",
    "pi = lambda t, k_min, k_max: plot_interactive(X=X, eigenvectors=eigenvectors, st=st, da_untrend=da_untrend, t=t, k_min=k_min, k_max=k_max)\n",
    "\n",
    "# Use `interact` to make the plot interactive with sliders for `t` and `k`\n",
    "interact(pi, \n",
    "        t=IntSlider(min=0, max=st.coords['time'].size - 1, step=1, value=10, layout={'width': '2000px'}), \n",
    "        k_min = IntSlider(min=0, max=eigenvectors.shape[1]-1, step=1, value=0, layout={'width': '2000px'}),\n",
    "        k_max = IntSlider(min=0, max=eigenvectors.shape[1]-1, step=1, value=4, layout={'width': '2000px'}))"
   ]
  },
  {
   "cell_type": "code",
   "execution_count": null,
   "id": "7ed9524e-50b4-474a-826f-dc1d799ad965",
   "metadata": {},
   "outputs": [],
   "source": []
  }
 ],
 "metadata": {
  "kernelspec": {
   "display_name": "Python 3 (ipykernel)",
   "language": "python",
   "name": "python3"
  },
  "language_info": {
   "codemirror_mode": {
    "name": "ipython",
    "version": 3
   },
   "file_extension": ".py",
   "mimetype": "text/x-python",
   "name": "python",
   "nbconvert_exporter": "python",
   "pygments_lexer": "ipython3",
   "version": "3.10.14"
  }
 },
 "nbformat": 4,
 "nbformat_minor": 5
}
